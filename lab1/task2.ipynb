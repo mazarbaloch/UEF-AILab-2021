{
  "nbformat": 4,
  "nbformat_minor": 0,
  "metadata": {
    "colab": {
      "name": "task2.ipynb",
      "provenance": []
    },
    "kernelspec": {
      "name": "python3",
      "display_name": "Python 3"
    },
    "language_info": {
      "name": "python"
    }
  },
  "cells": [
    {
      "cell_type": "code",
      "metadata": {
        "id": "0fdfgclaPMQ1"
      },
      "source": [
        "import numpy as np\n",
        "from sklearn.model_selection import train_test_split\n",
        "import pandas as pd\n",
        "from sklearn.preprocessing import MinMaxScaler, StandardScaler\n",
        "\n",
        "df = pd.read_csv('/breast-cancer.txt')\n"
      ],
      "execution_count": null,
      "outputs": []
    },
    {
      "cell_type": "code",
      "metadata": {
        "id": "uupi07vszIAd"
      },
      "source": [
        "from google.colab import drive\n",
        "drive.mount('/content/drive')"
      ],
      "execution_count": null,
      "outputs": []
    },
    {
      "cell_type": "code",
      "metadata": {
        "id": "pYQETJ7Mm4t0"
      },
      "source": [
        "df.dropna(inplace=True)\n",
        "df= df._get_numeric_data()"
      ],
      "execution_count": null,
      "outputs": []
    },
    {
      "cell_type": "code",
      "metadata": {
        "id": "9RKhqn1_nThf"
      },
      "source": [
        "df.drop(['id'], 1, inplace=True)\n"
      ],
      "execution_count": null,
      "outputs": []
    },
    {
      "cell_type": "code",
      "metadata": {
        "id": "d8A64YKxn8nQ"
      },
      "source": [
        "X = np.array(df.drop(['class'], 1))\n",
        "y = np.array(df['class'])"
      ],
      "execution_count": null,
      "outputs": []
    },
    {
      "cell_type": "code",
      "metadata": {
        "colab": {
          "base_uri": "https://localhost:8080/"
        },
        "id": "ZfyCb-ouoiBa",
        "outputId": "8b0c9ac8-a2ce-49d0-8186-09c83467df20"
      },
      "source": [
        "scaler = MinMaxScaler(feature_range=(0,1))\n",
        "X= scaler.fit_transform(X)\n",
        "\n",
        "#scaler2 = StandardScaler()\n",
        "#scaler2.fit(X)\n",
        "\n",
        "y = np.array(y==4).astype(int)\n",
        "\n",
        "X_train, X_test, y_train, y_test = train_test_split(X, y, test_size=0.2)\n",
        "\n",
        "print(X_train, X_test, y_train, y_test)\n"
      ],
      "execution_count": null,
      "outputs": [
        {
          "output_type": "stream",
          "name": "stdout",
          "text": [
            "[[0.66666667 0.11111111 0.33333333 ... 0.22222222 0.22222222 0.        ]\n",
            " [0.44444444 0.22222222 0.33333333 ... 0.33333333 0.66666667 0.        ]\n",
            " [0.33333333 0.         0.         ... 0.11111111 0.         0.        ]\n",
            " ...\n",
            " [1.         1.         0.77777778 ... 0.77777778 1.         0.        ]\n",
            " [0.44444444 0.22222222 0.11111111 ... 0.         0.         0.        ]\n",
            " [0.         0.         0.         ... 0.22222222 0.         0.        ]] [[0.         0.         0.22222222 ... 0.         0.         0.        ]\n",
            " [1.         0.33333333 0.33333333 ... 0.44444444 0.44444444 0.        ]\n",
            " [0.44444444 0.11111111 0.11111111 ... 0.         0.22222222 0.        ]\n",
            " ...\n",
            " [0.22222222 0.22222222 0.55555556 ... 0.33333333 0.33333333 0.        ]\n",
            " [0.33333333 0.         0.         ... 0.22222222 0.         0.        ]\n",
            " [0.33333333 0.         0.         ... 0.11111111 0.         0.        ]] [1 0 1 1 0 0 0 0 0 0 1 0 0 1 1 0 1 0 0 0 0 0 0 0 0 0 1 0 0 1 0 1 1 1 0 0 1\n",
            " 0 0 1 1 0 0 0 1 1 0 0 0 0 0 0 0 0 0 0 0 0 0 0 0 0 0 0 1 0 1 0 0 1 0 0 1 0\n",
            " 0 1 1 0 0 0 1 1 0 1 1 1 1 0 1 0 0 0 0 0 1 1 0 0 0 0 1 0 0 0 0 0 1 1 0 1 0\n",
            " 0 0 1 0 0 0 0 0 0 0 0 1 1 1 0 0 1 0 0 1 0 0 0 0 0 1 1 1 1 1 0 0 1 0 0 1 1\n",
            " 0 0 0 0 1 0 0 1 0 0 1 1 0 1 1 0 1 1 1 1 0 1 1 0 0 1 1 0 0 0 0 0 0 1 1 0 0\n",
            " 0 0 1 0 0 0 0 0 1 1 1 0 0 1 0 0 1 1 0 0 0 0 1 0 0 1 1 0 0 0 0 0 0 0 0 0 0\n",
            " 0 0 1 1 0 1 0 1 1 1 0 0 0 0 1 1 1 0 0 0 0 0 1 1 1 1 0 0 0 1 0 0 0 1 0 0 1\n",
            " 0 1 1 0 0 1 0 0 1 1 0 0 0 0 1 0 0 0 1 0 0 0 1 0 0 1 0 1 1 1 0 1 1 0 0 0 0\n",
            " 0 0 0 0 1 1 1 1 0 0 0 0 0 0 0 1 0 0 0 0 0 1 1 1 0 0 1 1 1 1 0 1 0 0 0 0 0\n",
            " 1 1 1 1 0 0 1 0 0 0 0 0 1 0 0 0 0 1 0 1 0 1 0 1 1 0 0 1 0 0 1 1 1 0 0 1 0\n",
            " 1 0 0 1 0 0 0 0 0 0 0 0 0 1 0 1 1 1 0 0 0 1 0 1 1 1 1 0 0 0 1 0 0 0 1 0 0\n",
            " 1 0 0 0 0 1 0 0 1 0 0 1 0 0 1 1 0 1 0 0 1 1 0 0 0 0 0 0 1 0 0 0 0 0 1 0 0\n",
            " 0 0 0 0 0 0 1 0 0 1 1 0 0 1 1 0 0 0 0 1 0 0 0 0 0 1 0 0 1 1 0 0 0 0 0 0 0\n",
            " 0 1 0 0 1 1 1 0 0 1 0 1 0 1 1 0 0 0 0 1 0 0 0 0 0 1 0 1 0 1 0 0 1 0 0 0 0\n",
            " 0 1 1 1 1 0 0 1 1 0 1 0 0 0 0 0 0 0 1 0 0 0 0 0 1 1 0 1 1 0 0 0 0 1 0 1 0\n",
            " 0 1 0 0] [0 1 0 0 0 0 1 0 1 1 0 0 0 0 1 0 1 0 0 0 0 0 0 0 0 0 0 0 1 1 0 0 0 0 1 1 1\n",
            " 0 0 0 0 0 1 0 0 1 1 0 0 0 0 1 0 0 0 0 0 0 0 0 0 0 1 1 0 1 0 0 0 0 0 0 1 1\n",
            " 1 0 0 1 0 0 1 1 0 0 0 1 0 0 0 1 1 0 0 0 1 0 1 0 0 1 1 0 1 0 0 0 0 0 0 0 1\n",
            " 0 0 0 1 0 0 0 1 1 1 1 1 1 1 0 1 0 1 0 0 0 0 0 0 0 1 1 0 0]\n"
          ]
        }
      ]
    }
  ]
}