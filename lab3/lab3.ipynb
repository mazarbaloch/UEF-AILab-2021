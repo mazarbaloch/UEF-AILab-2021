{
 "cells": [
  {
   "cell_type": "code",
   "execution_count": null,
   "source": [
    "import numpy as np\n",
    "X_train, X_test, y_train, y_test = np.load('X_train.npy'), np.load('X_test.npy'), np.load('y_train.npy'), np.load('y_test.npy')"
   ],
   "outputs": [],
   "metadata": {}
  },
  {
   "cell_type": "code",
   "execution_count": null,
   "source": [
    "X_train.shape, X_test.shape, y_train.shape, y_test.shape"
   ],
   "outputs": [],
   "metadata": {}
  },
  {
   "cell_type": "code",
   "execution_count": null,
   "source": [
    "import tensorflow as tf\n",
    "print(tf.__version__)\n",
    "tf.test.is_gpu_available(\n",
    "    cuda_only=False, min_cuda_compute_capability=None\n",
    ")"
   ],
   "outputs": [],
   "metadata": {}
  },
  {
   "cell_type": "code",
   "execution_count": null,
   "source": [
    "from tensorflow.keras import Sequential\n",
    "from tensorflow.keras.layers import Dense, Dropout, BatchNormalization\n",
    "from tensorflow.keras.callbacks import EarlyStopping\n",
    "import matplotlib.pyplot as plt\n"
   ],
   "outputs": [],
   "metadata": {}
  },
  {
   "cell_type": "code",
   "execution_count": null,
   "source": [
    "def create_model(num_neurons=5, num_layers=1, activation= 'relu', drop_ratio=0.2):\n",
    "    model = Sequential()\n",
    "    model.add(Dense(num_neurons, activation = 'relu', input_shape = (X_train.shape[1],)))\n",
    "    model.add(Dropout(drop_ratio))\n",
    "    for i in range(num_layers-1):\n",
    "        model.add(BatchNormalization())\n",
    "        model.add(Dense(num_neurons, activation = 'relu'))\n",
    "    model.add(Dense(1, activation = 'sigmoid'))\n",
    "    model.summary()\n",
    "    return model"
   ],
   "outputs": [],
   "metadata": {}
  },
  {
   "cell_type": "code",
   "execution_count": null,
   "source": [
    "for i in range(1,10):\n",
    "    for j in range(5,31,5):\n",
    "        model= create_model(num_neurons=j, num_layers=i)\n",
    "        model.compile(optimizer= 'adam',loss= 'binary_crossentropy', metrics=['accuracy'])\n",
    "        history = model.fit(X_train, y_train, batch_size=80, epochs=300, verbose = 0, validation_split = 0.1)\n",
    "        loss, acc = model.evaluate(X_test, y_test)\n",
    "        print('Test accuracy:', acc)\n",
    "        print('Test loss', loss)\n",
    "        plt.plot(history.history['loss'], label= 'training')\n",
    "        plt.plot(history.history['val_loss'], label= 'validation')\n",
    "        plt.legend()\n",
    "        plt.show()"
   ],
   "outputs": [],
   "metadata": {}
  },
  {
   "cell_type": "code",
   "execution_count": null,
   "source": [
    "for k in range(5):\n",
    "    drop_ratio = k*0.1\n",
    "    print('Dropout: ',drop_ratio)\n",
    "    model= create_model(num_neurons=20, num_layers=8, drop_ratio = drop_ratio)\n",
    "    model.compile(optimizer= 'adam',loss= 'binary_crossentropy', metrics=['accuracy'])\n",
    "    history = model.fit(X_train, y_train, batch_size=80, epochs=300, verbose = 0, validation_split = 0.1)\n",
    "    loss, acc = model.evaluate(X_test, y_test)\n",
    "    print('Test accuracy:', acc)\n",
    "    print('Test loss', loss)\n",
    "    plt.plot(history.history['loss'], label= 'training')\n",
    "    plt.plot(history.history['val_loss'], label= 'validation')\n",
    "    plt.legend()\n",
    "    plt.show()"
   ],
   "outputs": [],
   "metadata": {}
  },
  {
   "cell_type": "code",
   "execution_count": null,
   "source": [
    "model= create_model(num_neurons=20, num_layers=8)\n",
    "model.compile(optimizer= 'adam',loss= 'binary_crossentropy', metrics=['accuracy'])\n",
    "history = model.fit(X_train, y_train, batch_size=80, epochs=300, verbose = 0, validation_split = 0.1)\n",
    "loss, acc = model.evaluate(X_test, y_test)\n",
    "print('Test accuracy:', acc)\n",
    "print('Test loss', loss)\n",
    "plt.plot(history.history['loss'], label= 'training')\n",
    "plt.plot(history.history['val_loss'], label= 'validation')\n",
    "plt.legend()\n",
    "plt.show()"
   ],
   "outputs": [],
   "metadata": {}
  },
  {
   "cell_type": "code",
   "execution_count": null,
   "source": [
    "es = EarlyStopping(monitor = 'val_loss', patience = 100)\n",
    "model= create_model(num_neurons=20, num_layers=8)\n",
    "model.compile(optimizer= 'adam',loss= 'binary_crossentropy', metrics=['accuracy'])\n",
    "history = model.fit(X_train, y_train, batch_size=80, epochs=500, verbose = 2, validation_split = 0.1, callbacks=[es])\n",
    "loss, acc = model.evaluate(X_test, y_test)\n",
    "print('Test accuracy:', acc)\n",
    "print('Test loss', loss)\n",
    "plt.plot(history.history['loss'], label= 'training')\n",
    "plt.plot(history.history['val_loss'], label= 'validation')\n",
    "plt.legend()\n",
    "plt.show()"
   ],
   "outputs": [],
   "metadata": {}
  },
  {
   "cell_type": "code",
   "execution_count": 10,
   "source": [
    "history = model.fit(X_train, y_train, batch_size=80, epochs=300, verbose = 0, validation_split = 0.1)"
   ],
   "outputs": [],
   "metadata": {}
  },
  {
   "cell_type": "code",
   "execution_count": 11,
   "source": [
    "loss, acc = model.evaluate(X_test, y_test)\n",
    "print('Test accuracy:', acc)\n",
    "print('Test loss', loss)"
   ],
   "outputs": [
    {
     "output_type": "stream",
     "name": "stdout",
     "text": [
      "5/5 [==============================] - 0s 1ms/step - loss: 0.1071 - accuracy: 0.9643\n",
      "Test accuracy: 0.9642857313156128\n",
      "Test loss 0.10705696046352386\n"
     ]
    }
   ],
   "metadata": {}
  },
  {
   "cell_type": "code",
   "execution_count": 9,
   "source": [
    "from matplotlib import pyplot as plt\n",
    "plt.plot(history.history['loss'], label= 'training')\n",
    "plt.plot(history.history['val_loss'], label= 'validation')\n",
    "plt.legend()\n",
    "plt.show()"
   ],
   "outputs": [
    {
     "output_type": "display_data",
     "data": {
      "image/png": "[encoded data removed]",
      "text/plain": [
       "<Figure size 432x288 with 1 Axes>"
      ]
     },
     "metadata": {
      "needs_background": "light"
     }
    }
   ],
   "metadata": {}
  },
  {
   "cell_type": "code",
   "execution_count": 12,
   "source": [
    "row = X_test[5:100,:]\n",
    "labels = y_test[5:100]\n",
    "predictions = model.predict(row).round().reshape(labels.shape)\n",
    "# print('Predicted: ', predictions)\n",
    "# print('Labels: ', labels)"
   ],
   "outputs": [],
   "metadata": {}
  },
  {
   "cell_type": "code",
   "execution_count": 13,
   "source": [
    "from sklearn.metrics import confusion_matrix\n",
    "print(confusion_matrix(labels, predictions))"
   ],
   "outputs": [
    {
     "output_type": "stream",
     "name": "stdout",
     "text": [
      "[[60  3]\n",
      " [ 2 30]]\n"
     ]
    }
   ],
   "metadata": {}
  },
  {
   "cell_type": "code",
   "execution_count": null,
   "source": [],
   "outputs": [],
   "metadata": {}
  }
 ],
 "metadata": {
  "kernelspec": {
   "name": "python3",
   "display_name": "Python 3.7.11 64-bit ('AICourse': conda)"
  },
  "language_info": {
   "codemirror_mode": {
    "name": "ipython",
    "version": 3
   },
   "file_extension": ".py",
   "mimetype": "text/x-python",
   "name": "python",
   "nbconvert_exporter": "python",
   "pygments_lexer": "ipython3",
   "version": "3.7.11"
  },
  "interpreter": {
   "hash": "b08ff39e81487ac2de0ed1ab81ce70dc789eff7d4d49b530beb9695a7fce355d"
  }
 },
 "nbformat": 4,
 "nbformat_minor": 4
}